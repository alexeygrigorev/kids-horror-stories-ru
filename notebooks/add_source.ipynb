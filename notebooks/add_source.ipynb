{
 "cells": [
  {
   "cell_type": "code",
   "execution_count": 45,
   "id": "26224517-32f7-4633-8588-efe59a170bc4",
   "metadata": {},
   "outputs": [],
   "source": [
    "import frontmatter\n",
    "from PIL import Image"
   ]
  },
  {
   "cell_type": "code",
   "execution_count": 46,
   "id": "04f4d1b8-d2d4-4875-9c14-5c5b480c8ed3",
   "metadata": {},
   "outputs": [],
   "source": [
    "from pathlib import Path"
   ]
  },
  {
   "cell_type": "code",
   "execution_count": 48,
   "id": "a2226dee-eecb-42b4-ac2c-c5d8d2e4177c",
   "metadata": {},
   "outputs": [],
   "source": [
    "import os"
   ]
  },
  {
   "cell_type": "code",
   "execution_count": 9,
   "id": "aeea87e5-0c9a-49e8-95c4-57a3907cb010",
   "metadata": {},
   "outputs": [],
   "source": [
    "import pandas as pd"
   ]
  },
  {
   "cell_type": "code",
   "execution_count": 49,
   "id": "ee380df1-5fa0-4c56-8ab5-f048e888f73e",
   "metadata": {},
   "outputs": [],
   "source": [
    "os.chdir('..')"
   ]
  },
  {
   "cell_type": "code",
   "execution_count": 50,
   "id": "9b04c645-bc2c-4a09-bc9d-8b2d0a2a9165",
   "metadata": {},
   "outputs": [],
   "source": [
    "stories_dir = Path('_stories')\n",
    "done_images_dir = Path('images_input/done')\n",
    "output_images_dir = Path('images')\n",
    "output_image_size = 512\n",
    "output_image_quality = 80"
   ]
  },
  {
   "cell_type": "code",
   "execution_count": 51,
   "id": "43ab1ee9-26b4-4b4e-9d9d-ca2a52e5fc8d",
   "metadata": {},
   "outputs": [],
   "source": [
    "def resize_image(input_path, output_path, size=output_image_size, quality=output_image_quality):\n",
    "    with Image.open(input_path) as img:\n",
    "        img.thumbnail((size, size), Image.LANCZOS)\n",
    "        img.save(output_path, 'JPEG', quality=quality)\n"
   ]
  },
  {
   "cell_type": "code",
   "execution_count": 52,
   "id": "3a9abe6e-1a14-4cdd-96fe-9ff469e6e6f3",
   "metadata": {},
   "outputs": [],
   "source": [
    "df = pd.read_csv(r\"C:\\Users\\alexe\\Downloads\\parsed_logs_corrected.csv\")\n",
    "df.columns = ['image', 'story']"
   ]
  },
  {
   "cell_type": "code",
   "execution_count": 53,
   "id": "4f47ea22-23ef-41f1-8790-ee297dd67e2c",
   "metadata": {},
   "outputs": [],
   "source": [
    "records = df.to_dict(orient='records')"
   ]
  },
  {
   "cell_type": "code",
   "execution_count": 54,
   "id": "9b0fd3fb-7aa5-4a2f-86cb-e31695e5b75b",
   "metadata": {},
   "outputs": [
    {
     "data": {
      "text/plain": [
       "{'image': '5269678715187617321.jpg', 'story': '099-umbrella-portrait.md'}"
      ]
     },
     "execution_count": 54,
     "metadata": {},
     "output_type": "execute_result"
    }
   ],
   "source": [
    "r = records[0]\n",
    "r"
   ]
  },
  {
   "cell_type": "code",
   "execution_count": 63,
   "id": "6fbc0715-1fcd-4958-b6d8-208641ef516c",
   "metadata": {},
   "outputs": [
    {
     "name": "stdout",
     "output_type": "stream",
     "text": [
      "processing 099-umbrella-portrait...\n",
      "images_input\\done\\5269678715187617321.jpg doesn't exist\n",
      "processing 100-street-song...\n",
      "images_input\\done\\5269678715187617320.jpg doesn't exist\n",
      "processing 101-museum-night...\n",
      "processing 102-seventh-bell-tower...\n",
      "processing 103-old-bell...\n",
      "processing 104-tower-of-fate...\n",
      "processing 105-old-tower...\n",
      "processing 106-church-noon...\n",
      "processing 107-girl-with-screen...\n",
      "images_input\\done\\5269678715187617326.jpg doesn't exist\n",
      "processing 108-black-concert...\n",
      "processing 109-clock-tower...\n",
      "processing 110-unseen...\n",
      "processing 111-last-order...\n",
      "processing 112-serial-fan...\n",
      "processing 113-dandelion...\n",
      "processing 114-empty-bottles...\n",
      "processing 115-lost-clothes...\n",
      "processing 116-wall-plant...\n",
      "processing 117-umbrella...\n",
      "processing 118-lonely-chair...\n",
      "processing 119-ancient-keys...\n",
      "processing 120-window-monsters...\n",
      "processing 121-yellow-button...\n",
      "processing 122-moon-mask...\n",
      "processing 123-atm...\n",
      "processing 124-box...\n",
      "processing 125-lost-sounds...\n",
      "processing 126-last-witness-bench...\n",
      "processing 127-three-eyes...\n",
      "processing 128-death-clock...\n",
      "processing 129-pedestrian-bridge...\n",
      "processing 130-yellow-automaton...\n",
      "processing 131-iron-silence...\n",
      "processing 132-yellow-ticket...\n",
      "processing 133-ghost-station...\n",
      "processing 134-elevator-mystery...\n",
      "processing 135-clock-on-platform...\n",
      "processing 136-fear-code...\n",
      "processing 137-watch-without-time...\n",
      "processing 138-yellow-train...\n",
      "processing 139-darkbeads...\n",
      "processing 140-pretzel-seller...\n",
      "processing 141-wicker-tales...\n",
      "processing 142-theater-shadows...\n",
      "processing 143-fairyberries...\n",
      "processing 144-fries-figure...\n",
      "processing 145-lonely-pigeon...\n",
      "processing 146-fire-warden...\n",
      "processing 147-tram-nightmare...\n",
      "processing 148-the-train-that-never-stops...\n",
      "processing 149-tower...\n",
      "processing 150-inky-hands...\n",
      "processing 151-red-clock...\n",
      "processing 152-dark-corner...\n",
      "processing 153-yellow-window...\n",
      "processing 154-lost-library...\n",
      "processing 155-fire-extinguisher...\n",
      "processing 156-table-window...\n",
      "processing 157-door-note...\n",
      "processing 158-toilet-dispenser...\n",
      "processing 159-forgotten-salad...\n",
      "processing 160-lunch-of-fear...\n",
      "processing 161-candies-end...\n",
      "processing 162-spoon-without-trace...\n",
      "processing 163-salt-and-pepper...\n",
      "processing 164-living-hedge...\n",
      "processing 165-garden-guard...\n",
      "processing 166-forgotten-fountain...\n",
      "processing 167-fountain-of-the-dead...\n",
      "processing 168-yellowbox...\n",
      "processing 169-demon-tower...\n",
      "processing 170-facade-guard...\n",
      "processing 171-white-boat...\n",
      "processing 172-shadow-theater...\n",
      "processing 173-stone-guardians...\n",
      "processing 174-black-feather...\n",
      "processing 175-timeless-square...\n",
      "processing 176-bee-on-meadow...\n",
      "processing 177-lost-bag...\n",
      "processing 178-dug-up-road...\n",
      "processing 179-bus200...\n",
      "processing 180-small-streets...\n",
      "processing 181-horned-rod...\n",
      "processing 182-bear-on-the-corner...\n",
      "processing 183-yellow-ghost...\n",
      "processing 184-icecream...\n",
      "processing 185-circle-on-the-pavement...\n",
      "processing 186-rainbow-ball...\n",
      "processing 187-bear-call...\n",
      "processing 188-customer-tale...\n",
      "processing 189-doll-guardians...\n",
      "processing 190-empty-basket...\n",
      "processing 191-pink-candle...\n",
      "processing 192-sculpture-dream...\n",
      "processing 193-hidden-threat...\n",
      "processing 194-dog-figurine...\n",
      "processing 195-yarn...\n",
      "processing 196-empty-bottle...\n",
      "processing 197-simple-purchase...\n",
      "processing 198-yellow-shadows...\n",
      "processing 199-dark-soda...\n",
      "processing 200-tree-cafe...\n",
      "processing 201-flowers-cafe...\n",
      "processing 202-waiting-box...\n",
      "processing 203-rolling-bin...\n",
      "processing 204-car-count...\n",
      "processing 205-red-cube...\n",
      "processing 206-beauty-parlor...\n",
      "processing 207-locked-bathroom...\n",
      "processing 208-night-machine...\n",
      "processing 209-lost-cart...\n",
      "processing 210-hill...\n",
      "processing 211-empty-bench...\n",
      "processing 212-steps-to-nowhere...\n",
      "processing 213-park-sign...\n",
      "processing 214-opium-leaf...\n",
      "processing 215-kite-wind...\n",
      "processing 216-stair-watcher...\n",
      "processing 217-backyard-horror...\n",
      "processing 218-behind-bars...\n",
      "processing 219-sign...\n",
      "processing 220-night-games...\n",
      "processing 221-park-echo...\n",
      "processing 222-sweet-fate...\n",
      "processing 223-coin-graveyard...\n",
      "processing 224-evil-toy...\n",
      "processing 225-forgotten-hive...\n",
      "processing 226-tower-of-fate...\n"
     ]
    }
   ],
   "source": [
    "for r in records:\n",
    "    story_file_name = r['story']\n",
    "    story_name = story_file_name.split('.')[0]\n",
    "    print(f\"processing {story_name}...\")\n",
    "    \n",
    "    story_file = stories_dir / story_file_name\n",
    "    post = frontmatter.load(story_file)\n",
    "    \n",
    "    image_filename = r['image']\n",
    "    image_path = done_images_dir / image_filename\n",
    "    \n",
    "    if not image_path.exists():\n",
    "        print(f\"{image_path} doesn't exist\")\n",
    "        continue\n",
    "    \n",
    "    output_image_path = output_images_dir / f'{story_name}-source.jpg'\n",
    "    resize_image(image_path, output_image_path)\n",
    "\n",
    "    post['image_source'] = '/' + str(output_image_path).replace('\\\\', '/')\n",
    "    frontmatter.dump(post, story_file, encoding='utf-8')"
   ]
  },
  {
   "cell_type": "code",
   "execution_count": null,
   "id": "9bea0ae3-79a5-4178-93c1-84469f90b89d",
   "metadata": {},
   "outputs": [],
   "source": []
  }
 ],
 "metadata": {
  "kernelspec": {
   "display_name": "Python 3 (ipykernel)",
   "language": "python",
   "name": "python3"
  },
  "language_info": {
   "codemirror_mode": {
    "name": "ipython",
    "version": 3
   },
   "file_extension": ".py",
   "mimetype": "text/x-python",
   "name": "python",
   "nbconvert_exporter": "python",
   "pygments_lexer": "ipython3",
   "version": "3.12.3"
  }
 },
 "nbformat": 4,
 "nbformat_minor": 5
}
